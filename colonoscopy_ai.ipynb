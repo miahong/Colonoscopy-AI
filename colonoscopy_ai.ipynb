{
  "nbformat": 4,
  "nbformat_minor": 0,
  "metadata": {
    "orig_nbformat": 2,
    "file_extension": ".py",
    "mimetype": "text/x-python",
    "name": "python",
    "npconvert_exporter": "python",
    "pygments_lexer": "ipython3",
    "version": 3,
    "kernelspec": {
      "name": "python3",
      "display_name": "Python 3"
    },
    "colab": {
      "name": "colonoscopy_ai.ipynb",
      "provenance": [],
      "collapsed_sections": [
        "xcLGSe5AhFNq",
        "LhIgBK0slh_r",
        "S6UgB2t9gSux",
        "ilnKRrS0gdn4",
        "r-hH0aAugljA",
        "0PuqDw1Pg7B_",
        "WRdvAplzgjDg",
        "eVLro0DUktVe"
      ],
      "include_colab_link": true
    },
    "accelerator": "GPU"
  },
  "cells": [
    {
      "cell_type": "markdown",
      "metadata": {
        "id": "view-in-github",
        "colab_type": "text"
      },
      "source": [
        "<a href=\"https://colab.research.google.com/github/miahong/Colonoscopy-AI/blob/master/colonoscopy_ai.ipynb\" target=\"_parent\"><img src=\"https://colab.research.google.com/assets/colab-badge.svg\" alt=\"Open In Colab\"/></a>"
      ]
    },
    {
      "cell_type": "markdown",
      "metadata": {
        "id": "xcLGSe5AhFNq",
        "colab_type": "text"
      },
      "source": [
        "### Import libraries and load Dataset - TODO : REMOVE UNUSED IMPORTS"
      ]
    },
    {
      "cell_type": "code",
      "metadata": {
        "id": "L5voXB_6EpIK",
        "colab_type": "code",
        "outputId": "092b92be-c8f8-417e-942d-61ed44c02950",
        "colab": {
          "base_uri": "https://localhost:8080/",
          "height": 122
        }
      },
      "source": [
        "# https://research.google.com/colaboratory/faq.html#drive-timeout\n",
        "from google.colab import drive\n",
        "drive.mount('/content/drive')"
      ],
      "execution_count": 1,
      "outputs": [
        {
          "output_type": "stream",
          "text": [
            "Go to this URL in a browser: https://accounts.google.com/o/oauth2/auth?client_id=947318989803-6bn6qk8qdgf4n4g3pfee6491hc0brc4i.apps.googleusercontent.com&redirect_uri=urn%3aietf%3awg%3aoauth%3a2.0%3aoob&response_type=code&scope=email%20https%3a%2f%2fwww.googleapis.com%2fauth%2fdocs.test%20https%3a%2f%2fwww.googleapis.com%2fauth%2fdrive%20https%3a%2f%2fwww.googleapis.com%2fauth%2fdrive.photos.readonly%20https%3a%2f%2fwww.googleapis.com%2fauth%2fpeopleapi.readonly\n",
            "\n",
            "Enter your authorization code:\n",
            "··········\n",
            "Mounted at /content/drive\n"
          ],
          "name": "stdout"
        }
      ]
    },
    {
      "cell_type": "code",
      "metadata": {
        "id": "gusGBZKbgJnQ",
        "colab_type": "code",
        "colab": {}
      },
      "source": [
        "import time\n",
        "import copy\n",
        "import os\n",
        "import sys\n",
        "import glob \n",
        "import cv2 \n",
        "import numpy as np\n",
        "import matplotlib.pyplot as plt\n",
        "import matplotlib.image as mpimg\n",
        "import pandas as pd\n",
        "import torch\n",
        "import torch.nn as nn\n",
        "import torch.optim as optim\n",
        "from torch.optim import lr_scheduler\n",
        "from torch.utils.data import Dataset, DataLoader\n",
        "import torchvision\n",
        "from torchvision import transforms, utils, datasets, models\n",
        "from collections import OrderedDict\n",
        "#%pip install livelossplot\n",
        "#from livelossplot import PlotLossesKeras"
      ],
      "execution_count": 0,
      "outputs": []
    },
    {
      "cell_type": "code",
      "metadata": {
        "id": "I0bmbRUzneix",
        "colab_type": "code",
        "outputId": "a1b83fa2-d20d-4486-e20c-0d4d7ad46a03",
        "colab": {
          "base_uri": "https://localhost:8080/",
          "height": 85
        }
      },
      "source": [
        "def get_lib_versions():\n",
        "  output = OrderedDict()\n",
        "  output[\"Python version\"] = sys.version.replace(\"\\n\", \" \")\n",
        "  output[\"Numpy version\"] = np.version.full_version\n",
        "  output[\"Pytorch version\"] = torch.__version__\n",
        "  output[\"Torchvision Version\"] = torchvision.__version__\n",
        "  for kv in output.items():\n",
        "    print(\"%s: %s\" % kv)\n",
        "\n",
        "get_lib_versions()"
      ],
      "execution_count": 3,
      "outputs": [
        {
          "output_type": "stream",
          "text": [
            "Python version: 3.6.9 (default, Nov  7 2019, 10:44:02)  [GCC 8.3.0]\n",
            "Numpy version: 1.18.3\n",
            "Pytorch version: 1.5.0+cu101\n",
            "Torchvision Version: 0.6.0+cu101\n"
          ],
          "name": "stdout"
        }
      ]
    },
    {
      "cell_type": "markdown",
      "metadata": {
        "id": "LhIgBK0slh_r",
        "colab_type": "text"
      },
      "source": [
        "### Ensure reproducibility of results obtained using test data"
      ]
    },
    {
      "cell_type": "code",
      "metadata": {
        "id": "kpOOwtlSloiz",
        "colab_type": "code",
        "colab": {}
      },
      "source": [
        "torch.manual_seed(0)\n",
        "np.random.seed(0)"
      ],
      "execution_count": 0,
      "outputs": []
    },
    {
      "cell_type": "markdown",
      "metadata": {
        "id": "S6UgB2t9gSux",
        "colab_type": "text"
      },
      "source": [
        "### Dataset summary"
      ]
    },
    {
      "cell_type": "code",
      "metadata": {
        "id": "Q6-krrrKgJnV",
        "colab_type": "code",
        "outputId": "360e12b2-81ea-4ee9-cc80-08c64e16a0a7",
        "colab": {
          "base_uri": "https://localhost:8080/",
          "height": 68
        }
      },
      "source": [
        "# get both ungrouped AO and Non-AO image paths and check the total number of images\n",
        "AO_folder_path = \"/content/drive/My Drive/Colonoscopy-AI/data/model_data/AO/*\"\n",
        "NonAO_folder_path = \"/content/drive/My Drive/Colonoscopy-AI/data/model_data/Non-AO/*\"\n",
        "AO_files = glob.glob(AO_folder_path)\n",
        "NonAO_files = glob.glob(NonAO_folder_path)\n",
        "\n",
        "# AO image original path\n",
        "AO_img_path_list =[]\n",
        "for file in AO_files:\n",
        "    filename = os.path.basename(file)\n",
        "    AO_img_path_list.append(file)\n",
        "\n",
        "# Non AO image original path\n",
        "NonAO_img_path_list =[]\n",
        "for file in NonAO_files:\n",
        "    filename = os.path.basename(file)\n",
        "    NonAO_img_path_list.append(file)\n",
        "\n",
        "# Read and Store Each Images and shapes\n",
        "# AO image and shape\n",
        "AO_img_list =[]\n",
        "AO_img_shape_list =[]\n",
        "for path in AO_img_path_list[0:1]:\n",
        "    image = cv2.imread(path)\n",
        "    image = cv2.cvtColor(image, cv2.COLOR_BGR2RGB)\n",
        "    AO_img_list.append(image)\n",
        "    AO_img_shape_list.append(image.shape)\n",
        " \n",
        "# Non-AO image and shape\n",
        "NonAO_img_list =[]\n",
        "NonAO_img_shape_list =[]\n",
        "for path in NonAO_img_path_list[0:1]:\n",
        "    image = cv2.imread(path)\n",
        "    image = cv2.cvtColor(image, cv2.COLOR_BGR2RGB)\n",
        "    NonAO_img_list.append(image)\n",
        "    NonAO_img_shape_list.append(image.shape)\n",
        "\n",
        "# check unique shape size\n",
        "# AO unique shape\n",
        "AO_unique_shape_list =[]\n",
        "for s in AO_img_shape_list:\n",
        "    if s not in AO_unique_shape_list:\n",
        "        AO_unique_shape_list.append(s)\n",
        "\n",
        "# Non-AO unique shape\n",
        "NonAO_unique_shape_list =[]\n",
        "for s in NonAO_img_shape_list:\n",
        "    if s not in NonAO_unique_shape_list:\n",
        "        NonAO_unique_shape_list.append(s)\n",
        "\n",
        "AO_count = len(AO_img_path_list)\n",
        "NonAO_count = len(NonAO_img_path_list)\n",
        "total_count = AO_count + NonAO_count\n",
        "print (\"AO images have shape: {}\".format(AO_unique_shape_list))\n",
        "print (\"Non AO images have shape: {}\".format(NonAO_unique_shape_list))\n",
        "print (\"Overall, {} AO images, {} Non AO images, giving a total of {} images.\".format(AO_count, NonAO_count, total_count))"
      ],
      "execution_count": 0,
      "outputs": [
        {
          "output_type": "stream",
          "text": [
            "AO images have shape: []\n",
            "Non AO images have shape: [(480, 736, 3)]\n",
            "Overall, 0 AO images, 6673 Non AO images, giving a total of 6673 images.\n"
          ],
          "name": "stdout"
        }
      ]
    },
    {
      "cell_type": "markdown",
      "metadata": {
        "id": "ilnKRrS0gdn4",
        "colab_type": "text"
      },
      "source": [
        "### Data Loaders (train, val, test) - I MADE A CHANGE TO THE SHUFFLE PARAMETER FOR TEST(SEE SLACK)"
      ]
    },
    {
      "cell_type": "code",
      "metadata": {
        "id": "Ub5a7JoLgJng",
        "colab_type": "code",
        "outputId": "44b76a8f-1786-4d06-a3f7-0f5606abc656",
        "colab": {
          "base_uri": "https://localhost:8080/",
          "height": 85
        }
      },
      "source": [
        "# Hyper-parameters and parameters\n",
        "BATCH_SIZE = 32\n",
        "NUM_WORKER = 4\n",
        "\n",
        "# Build transforms\n",
        "data_transform = transforms.Compose([\n",
        "    transforms.RandomResizedCrop(224),\n",
        "    transforms.RandomHorizontalFlip(),\n",
        "    transforms.ToTensor(),\n",
        "    transforms.Normalize(mean=[0.485, 0.456, 0.406], std=[0.229, 0.224, 0.225])])\n",
        "\n",
        "# Build the datasets\n",
        "model_dataset = datasets.ImageFolder(root='/content/drive/My Drive/Colonoscopy-AI/data/model_data/', transform=data_transform)\n",
        "print (len(model_dataset))\n",
        "\n",
        "# Split the dataset into train, valid and test dataset\n",
        "train_count = int(0.8 * total_count) \n",
        "valid_count = int((total_count - train_count)/2)\n",
        "test_count = int((total_count - train_count)/2)\n",
        "print('train, valid, test split count:{} {} {} '.format(train_count, valid_count, test_count))\n",
        "train_dataset, valid_dataset, test_dataset = torch.utils.data.random_split(model_dataset, (train_count, valid_count, test_count))\n",
        "\n",
        "# Build Dataloader for these three datasets\n",
        "train_dataset_loader = torch.utils.data.DataLoader(train_dataset, batch_size=BATCH_SIZE, shuffle=True, num_workers=NUM_WORKER)\n",
        "valid_dataset_loader = torch.utils.data.DataLoader(valid_dataset, batch_size=BATCH_SIZE, shuffle=True, num_workers=NUM_WORKER)\n",
        "test_dataset_loader  = torch.utils.data.DataLoader(test_dataset , batch_size=BATCH_SIZE, shuffle=False,num_workers=NUM_WORKER)\n",
        "\n",
        "# Create the dict for the dataloader\n",
        "dataset_sizes = {'train': train_count, 'val': valid_count, 'test': test_count}\n",
        "dataloaders = {'train': train_dataset_loader, 'val': valid_dataset_loader, 'test': test_dataset_loader}\n",
        "print (\"Dataloader have been built.\")\n",
        "print (dataset_sizes)"
      ],
      "execution_count": 0,
      "outputs": [
        {
          "output_type": "stream",
          "text": [
            "13250\n",
            "train, valid, test split count:10600 1325 1325 \n",
            "Dataloader have been built.\n",
            "{'train': 10600, 'val': 1325, 'test': 1325}\n"
          ],
          "name": "stdout"
        }
      ]
    },
    {
      "cell_type": "markdown",
      "metadata": {
        "id": "r-hH0aAugljA",
        "colab_type": "text"
      },
      "source": [
        "### Initialize the model and optimizer and loss function - CHANGE OPTIMIZER TO ADAM, MODEL TO DENSENET "
      ]
    },
    {
      "cell_type": "code",
      "metadata": {
        "id": "WuuKCs96gJnk",
        "colab_type": "code",
        "outputId": "e5a572db-a014-41a9-b0b0-83160e6212bf",
        "colab": {
          "base_uri": "https://localhost:8080/",
          "height": 85
        }
      },
      "source": [
        "# Hyper-parameters and parameters\n",
        "feature_extract = True \n",
        "num_classes = 2\n",
        "use_pretrained = True\n",
        "LEARNING_RATE = 0.001\n",
        "MOMENTUM = 0.9\n",
        "STEP_SIZE = 7\n",
        "GAMMA = 0.1\n",
        "device = torch.device(\"cuda:0\" if torch.cuda.is_available() else \"cpu\")\n",
        "\n",
        "# Initialize the model        \n",
        "def set_parameter_requires_grad(model, feature_extracting):\n",
        "    if feature_extracting:\n",
        "        for param in model.parameters():\n",
        "            param.requires_grad = False\n",
        "\n",
        "# This function will need to be changed for different models.\n",
        "def initialize_model(num_classes, feature_extract, use_pretrained=True):\n",
        "    model_ft = models.resnet18(pretrained=use_pretrained)\n",
        "    set_parameter_requires_grad(model_ft, feature_extract)\n",
        "    num_ftrs = model_ft.fc.in_features\n",
        "    model_ft.fc = nn.Linear(num_ftrs, num_classes)\n",
        "    input_size = 224\n",
        "    return model_ft, input_size\n",
        "\n",
        "model_ft, input_size = initialize_model(num_classes, feature_extract, use_pretrained)\n",
        "model_ft = model_ft.to(device) \n",
        "\n",
        "# Initialize the optimizer\n",
        "params_to_update = model_ft.parameters()\n",
        "print(\"Params to learn:\")\n",
        "if feature_extract:\n",
        "    params_to_update = []\n",
        "    for name,param in model_ft.named_parameters():\n",
        "        if param.requires_grad == True:\n",
        "            params_to_update.append(param)\n",
        "            print(\"\\t\",name)\n",
        "else:\n",
        "    for name,param in model_ft.named_parameters():\n",
        "        if param.requires_grad == True:\n",
        "            print(\"\\t\",name)\n",
        "\n",
        "optimizer_ft = optim.SGD(params_to_update, lr=LEARNING_RATE, momentum=MOMENTUM)\n",
        "exp_lr_scheduler = lr_scheduler.StepLR(optimizer_ft, step_size=STEP_SIZE, gamma=GAMMA)\n",
        "\n",
        "# Initialize the loss function\n",
        "criterion = nn.CrossEntropyLoss()\n",
        "\n",
        "# Check whether you are on GPU or CPU\n",
        "print (device)"
      ],
      "execution_count": 0,
      "outputs": [
        {
          "output_type": "stream",
          "text": [
            "Params to learn:\n",
            "\t fc.weight\n",
            "\t fc.bias\n",
            "cuda:0\n"
          ],
          "name": "stdout"
        }
      ]
    },
    {
      "cell_type": "markdown",
      "metadata": {
        "id": "0PuqDw1Pg7B_",
        "colab_type": "text"
      },
      "source": [
        "### Train the model (train and val datasets)"
      ]
    },
    {
      "cell_type": "code",
      "metadata": {
        "id": "B8FHxOYmgJnn",
        "colab_type": "code",
        "colab": {}
      },
      "source": [
        "# TODO : https://github.com/stared/livelossplot (Plot the loss and accuracy as the training happens)\n",
        "# reference to https://pytorch.org/tutorials/beginner/transfer_learning_tutorial.html#training-the-model\n",
        "\n",
        "def train_model(model, criterion, optimizer, scheduler, num_epochs=25):\n",
        "    since = time.time()\n",
        "\n",
        "    best_model_wts = copy.deepcopy(model.state_dict())\n",
        "    best_acc = 0.0\n",
        "    train_losses = []\n",
        "    val_losses = []\n",
        "\n",
        "    for epoch in range(num_epochs):\n",
        "        print('Epoch {}/{}'.format(epoch, num_epochs - 1))\n",
        "        print('-' * 10)\n",
        "\n",
        "        # Each epoch has a training and validation phase\n",
        "        for phase in ['train','val']:\n",
        "            if phase == 'train':\n",
        "                model.train()  # Set model to training mode\n",
        "            else:\n",
        "                model.eval()   # Set model to evaluate mode for validation phase\n",
        "\n",
        "            running_loss = 0.0\n",
        "            running_corrects = 0\n",
        "\n",
        "            # Iterate over data.\n",
        "            for inputs, labels in dataloaders[phase]:\n",
        "                inputs = inputs.to(device)\n",
        "                labels = labels.to(device)\n",
        "\n",
        "                # zero the parameter gradients\n",
        "                optimizer.zero_grad()\n",
        "\n",
        "                # forward\n",
        "                # track history if only in train\n",
        "                with torch.set_grad_enabled(phase == 'train'):\n",
        "                    outputs = model(inputs)\n",
        "                    _, preds = torch.max(outputs, 1)\n",
        "                    loss = criterion(outputs, labels)\n",
        "\n",
        "                    # backward + optimize only if in training phase\n",
        "                    if phase == 'train':\n",
        "                        loss.backward()\n",
        "                        optimizer.step()\n",
        "                        train_losses.append(loss.item())                        ## TODO : change this so that we save only every 10 batches\n",
        "                    if phase == 'val':\n",
        "                        val_losses.append(loss.item())\n",
        "\n",
        "                # statistics\n",
        "                running_loss += loss.item() * inputs.size(0)\n",
        "                running_corrects += torch.sum(preds == labels.data)\n",
        "                \n",
        "            if phase == 'train':\n",
        "                scheduler.step()\n",
        "\n",
        "            epoch_loss = running_loss / dataset_sizes[phase]\n",
        "            epoch_acc = running_corrects.double() / dataset_sizes[phase]\n",
        "\n",
        "            print('{} Loss: {:.4f} Acc: {:.4f}'.format(\n",
        "                phase, epoch_loss, epoch_acc))\n",
        "\n",
        "            # deep copy the model\n",
        "            if phase == 'val' and epoch_acc > best_acc:\n",
        "                best_acc = epoch_acc\n",
        "                best_model_wts = copy.deepcopy(model.state_dict())\n",
        "\n",
        "        print()\n",
        "\n",
        "    time_elapsed = time.time() - since\n",
        "    print('Training complete in {:.0f}m {:.0f}s'.format(\n",
        "        time_elapsed // 60, time_elapsed % 60))\n",
        "    print('Best val Acc: {:4f}'.format(best_acc))    \n",
        "    \n",
        "    # load best model weights\n",
        "    model.load_state_dict(best_model_wts)\n",
        "    return model, train_losses, val_losses"
      ],
      "execution_count": 0,
      "outputs": []
    },
    {
      "cell_type": "code",
      "metadata": {
        "id": "TJKczotTgJnq",
        "colab_type": "code",
        "outputId": "227c5e2b-3eaa-47cd-b1a8-0c5e7588195c",
        "colab": {
          "base_uri": "https://localhost:8080/",
          "height": 1000
        }
      },
      "source": [
        "# Hyper-parameter\n",
        "N_EPOCHS = 50\n",
        "\n",
        "model_ft, losses, _ = train_model(model_ft, criterion, optimizer_ft, exp_lr_scheduler,num_epochs=N_EPOCHS)\n",
        "\n",
        "def mean(li): \n",
        "    return sum(li)/len(li)\n",
        "      \n",
        "plt.figure(figsize=(14, 4))\n",
        "plt.xlabel('training batch') # TODO : choose a better name for this\n",
        "plt.ylabel('loss')\n",
        "plt.plot([mean(losses[i:i+10]) for i in range(len(losses))])"
      ],
      "execution_count": 0,
      "outputs": [
        {
          "output_type": "stream",
          "text": [
            "Epoch 0/49\n",
            "----------\n",
            "train Loss: 0.4534 Acc: 0.7894\n",
            "val Loss: 0.4302 Acc: 0.8181\n",
            "\n",
            "Epoch 1/49\n",
            "----------\n",
            "train Loss: 0.4029 Acc: 0.8198\n",
            "val Loss: 0.3546 Acc: 0.8521\n",
            "\n",
            "Epoch 2/49\n",
            "----------\n",
            "train Loss: 0.3958 Acc: 0.8258\n",
            "val Loss: 0.3652 Acc: 0.8475\n",
            "\n",
            "Epoch 3/49\n",
            "----------\n",
            "train Loss: 0.3831 Acc: 0.8326\n",
            "val Loss: 0.3703 Acc: 0.8453\n",
            "\n",
            "Epoch 4/49\n",
            "----------\n",
            "train Loss: 0.3823 Acc: 0.8327\n",
            "val Loss: 0.3417 Acc: 0.8536\n",
            "\n",
            "Epoch 5/49\n",
            "----------\n",
            "train Loss: 0.3791 Acc: 0.8316\n",
            "val Loss: 0.3560 Acc: 0.8385\n",
            "\n",
            "Epoch 6/49\n",
            "----------\n",
            "train Loss: 0.3696 Acc: 0.8378\n",
            "val Loss: 0.3691 Acc: 0.8423\n",
            "\n",
            "Epoch 7/49\n",
            "----------\n",
            "train Loss: 0.3675 Acc: 0.8407\n",
            "val Loss: 0.3641 Acc: 0.8423\n",
            "\n",
            "Epoch 8/49\n",
            "----------\n",
            "train Loss: 0.3571 Acc: 0.8445\n",
            "val Loss: 0.3556 Acc: 0.8506\n",
            "\n",
            "Epoch 9/49\n",
            "----------\n",
            "train Loss: 0.3622 Acc: 0.8406\n",
            "val Loss: 0.3413 Acc: 0.8543\n",
            "\n",
            "Epoch 10/49\n",
            "----------\n",
            "train Loss: 0.3606 Acc: 0.8402\n",
            "val Loss: 0.3446 Acc: 0.8536\n",
            "\n",
            "Epoch 11/49\n",
            "----------\n",
            "train Loss: 0.3596 Acc: 0.8391\n",
            "val Loss: 0.3338 Acc: 0.8581\n",
            "\n",
            "Epoch 12/49\n",
            "----------\n",
            "train Loss: 0.3546 Acc: 0.8412\n",
            "val Loss: 0.3328 Acc: 0.8664\n",
            "\n",
            "Epoch 13/49\n",
            "----------\n",
            "train Loss: 0.3571 Acc: 0.8371\n",
            "val Loss: 0.3508 Acc: 0.8483\n",
            "\n",
            "Epoch 14/49\n",
            "----------\n",
            "train Loss: 0.3584 Acc: 0.8431\n",
            "val Loss: 0.3368 Acc: 0.8543\n",
            "\n",
            "Epoch 15/49\n",
            "----------\n",
            "train Loss: 0.3582 Acc: 0.8422\n",
            "val Loss: 0.3381 Acc: 0.8558\n",
            "\n",
            "Epoch 16/49\n",
            "----------\n",
            "train Loss: 0.3605 Acc: 0.8432\n",
            "val Loss: 0.3514 Acc: 0.8521\n",
            "\n",
            "Epoch 17/49\n",
            "----------\n",
            "train Loss: 0.3531 Acc: 0.8425\n",
            "val Loss: 0.3509 Acc: 0.8468\n",
            "\n",
            "Epoch 18/49\n",
            "----------\n",
            "train Loss: 0.3576 Acc: 0.8401\n",
            "val Loss: 0.3611 Acc: 0.8415\n",
            "\n",
            "Epoch 19/49\n",
            "----------\n",
            "train Loss: 0.3496 Acc: 0.8457\n",
            "val Loss: 0.3417 Acc: 0.8521\n",
            "\n",
            "Epoch 20/49\n",
            "----------\n",
            "train Loss: 0.3670 Acc: 0.8373\n",
            "val Loss: 0.3400 Acc: 0.8611\n",
            "\n",
            "Epoch 21/49\n",
            "----------\n",
            "train Loss: 0.3625 Acc: 0.8392\n",
            "val Loss: 0.3520 Acc: 0.8513\n",
            "\n",
            "Epoch 22/49\n",
            "----------\n",
            "train Loss: 0.3555 Acc: 0.8410\n",
            "val Loss: 0.3602 Acc: 0.8453\n",
            "\n",
            "Epoch 23/49\n",
            "----------\n",
            "train Loss: 0.3587 Acc: 0.8424\n",
            "val Loss: 0.3270 Acc: 0.8664\n",
            "\n",
            "Epoch 24/49\n",
            "----------\n",
            "train Loss: 0.3606 Acc: 0.8392\n",
            "val Loss: 0.3384 Acc: 0.8558\n",
            "\n",
            "Epoch 25/49\n",
            "----------\n",
            "train Loss: 0.3565 Acc: 0.8464\n",
            "val Loss: 0.3456 Acc: 0.8491\n",
            "\n",
            "Epoch 26/49\n",
            "----------\n",
            "train Loss: 0.3556 Acc: 0.8424\n",
            "val Loss: 0.3427 Acc: 0.8558\n",
            "\n",
            "Epoch 27/49\n",
            "----------\n",
            "train Loss: 0.3540 Acc: 0.8446\n",
            "val Loss: 0.3542 Acc: 0.8543\n",
            "\n",
            "Epoch 28/49\n",
            "----------\n",
            "train Loss: 0.3604 Acc: 0.8406\n",
            "val Loss: 0.3536 Acc: 0.8536\n",
            "\n",
            "Epoch 29/49\n",
            "----------\n",
            "train Loss: 0.3588 Acc: 0.8467\n",
            "val Loss: 0.3396 Acc: 0.8596\n",
            "\n",
            "Epoch 30/49\n",
            "----------\n",
            "train Loss: 0.3602 Acc: 0.8415\n",
            "val Loss: 0.3446 Acc: 0.8468\n",
            "\n",
            "Epoch 31/49\n",
            "----------\n",
            "train Loss: 0.3558 Acc: 0.8443\n",
            "val Loss: 0.3419 Acc: 0.8574\n",
            "\n",
            "Epoch 32/49\n",
            "----------\n",
            "train Loss: 0.3581 Acc: 0.8378\n",
            "val Loss: 0.3527 Acc: 0.8528\n",
            "\n",
            "Epoch 33/49\n",
            "----------\n",
            "train Loss: 0.3626 Acc: 0.8398\n",
            "val Loss: 0.3188 Acc: 0.8694\n",
            "\n",
            "Epoch 34/49\n",
            "----------\n",
            "train Loss: 0.3623 Acc: 0.8406\n",
            "val Loss: 0.3454 Acc: 0.8558\n",
            "\n",
            "Epoch 35/49\n",
            "----------\n",
            "train Loss: 0.3575 Acc: 0.8409\n",
            "val Loss: 0.3485 Acc: 0.8445\n",
            "\n",
            "Epoch 36/49\n",
            "----------\n",
            "train Loss: 0.3549 Acc: 0.8451\n",
            "val Loss: 0.3351 Acc: 0.8574\n",
            "\n",
            "Epoch 37/49\n",
            "----------\n",
            "train Loss: 0.3569 Acc: 0.8453\n",
            "val Loss: 0.3455 Acc: 0.8513\n",
            "\n",
            "Epoch 38/49\n",
            "----------\n",
            "train Loss: 0.3540 Acc: 0.8477\n",
            "val Loss: 0.3335 Acc: 0.8543\n",
            "\n",
            "Epoch 39/49\n",
            "----------\n",
            "train Loss: 0.3615 Acc: 0.8366\n",
            "val Loss: 0.3302 Acc: 0.8589\n",
            "\n",
            "Epoch 40/49\n",
            "----------\n",
            "train Loss: 0.3587 Acc: 0.8398\n",
            "val Loss: 0.3462 Acc: 0.8543\n",
            "\n",
            "Epoch 41/49\n",
            "----------\n",
            "train Loss: 0.3583 Acc: 0.8421\n",
            "val Loss: 0.3601 Acc: 0.8423\n",
            "\n",
            "Epoch 42/49\n",
            "----------\n",
            "train Loss: 0.3531 Acc: 0.8437\n",
            "val Loss: 0.3487 Acc: 0.8460\n",
            "\n",
            "Epoch 43/49\n",
            "----------\n",
            "train Loss: 0.3546 Acc: 0.8421\n",
            "val Loss: 0.3369 Acc: 0.8558\n",
            "\n",
            "Epoch 44/49\n",
            "----------\n",
            "train Loss: 0.3604 Acc: 0.8421\n",
            "val Loss: 0.3380 Acc: 0.8558\n",
            "\n",
            "Epoch 45/49\n",
            "----------\n",
            "train Loss: 0.3591 Acc: 0.8421\n",
            "val Loss: 0.3319 Acc: 0.8506\n",
            "\n",
            "Epoch 46/49\n",
            "----------\n",
            "train Loss: 0.3585 Acc: 0.8396\n",
            "val Loss: 0.3601 Acc: 0.8468\n",
            "\n",
            "Epoch 47/49\n",
            "----------\n",
            "train Loss: 0.3596 Acc: 0.8439\n",
            "val Loss: 0.3478 Acc: 0.8438\n",
            "\n",
            "Epoch 48/49\n",
            "----------\n",
            "train Loss: 0.3578 Acc: 0.8441\n",
            "val Loss: 0.3376 Acc: 0.8430\n",
            "\n",
            "Epoch 49/49\n",
            "----------\n",
            "train Loss: 0.3562 Acc: 0.8411\n",
            "val Loss: 0.3497 Acc: 0.8513\n",
            "\n",
            "Training complete in 90m 15s\n",
            "Best val Acc: 0.869434\n"
          ],
          "name": "stdout"
        },
        {
          "output_type": "execute_result",
          "data": {
            "text/plain": [
              "[<matplotlib.lines.Line2D at 0x7f6b5622fb00>]"
            ]
          },
          "metadata": {
            "tags": []
          },
          "execution_count": 17
        },
        {
          "output_type": "display_data",
          "data": {
            "image/png": "[encoded data removed]",
            "text/plain": [
              "<Figure size 1008x288 with 1 Axes>"
            ]
          },
          "metadata": {
            "tags": [],
            "needs_background": "light"
          }
        }
      ]
    },
    {
      "cell_type": "markdown",
      "metadata": {
        "id": "WRdvAplzgjDg",
        "colab_type": "text"
      },
      "source": [
        "### Test the trained model (test dataset) - SEE COMMENT ON THE LINE WHERE 12 WAS WRITTEN INSTEAD OF BATCH SIZE LAST FRIDAY\n"
      ]
    },
    {
      "cell_type": "code",
      "metadata": {
        "id": "Wm84oX3JgoOG",
        "colab_type": "code",
        "colab": {}
      },
      "source": [
        "def test_model(model, criterion):\n",
        "    since = time.time()\n",
        "\n",
        "    class_correct = list(0. for i in range(num_classes))\n",
        "    class_total = list(0. for i in range(num_classes))\n",
        "\n",
        "    y_true = []\n",
        "    y_pred = []\n",
        "\n",
        "    classes = []\n",
        "    classes.append(0)\n",
        "    classes.append(1)\n",
        "\n",
        "    correct = 0\n",
        "    total = 0\n",
        "\n",
        "    model.to(device) \n",
        "    model.eval()   # Set model to evaluate mode for testing phase\n",
        "\n",
        "    with torch.no_grad():\n",
        "      # Iterate over all the batches of data in test dataloader\n",
        "      for inputs, labels in dataloaders['test']:\n",
        "          inputs = inputs.to(device)\n",
        "          labels = labels.to(device) ## y_true\n",
        "\n",
        "          outputs = model(inputs)\n",
        "          _, preds = torch.max(outputs, 1) ## y_pred\n",
        "\n",
        "          # Calculating accuracy on test-data.\n",
        "          total += labels.size(0)\n",
        "          correct += (preds == labels).sum().item()\n",
        "\n",
        "          # Calculating per-class accuracy for this batch of data. \n",
        "          c = (preds == labels).squeeze()\n",
        "          for i in range(12):                                                     # SHOULD WE REPLACE 12 BY len(labels)? MOST PROBABLY, YES. TRY AND SEE WHAT HAPPENS.\n",
        "              label = labels[i]\n",
        "              class_correct[label] += c[i].item()\n",
        "              class_total[label] += 1\n",
        "\n",
        "          # Probably need to bring all tensors (labels, preds) to CPU first for sklearn metrics to work properly,\n",
        "          # as it is a different framework than PyTorch and may not be able to handle cuda tensors always.\n",
        " \n",
        "          ## not really sure about the necessity of the next 2 lines \n",
        "          y_pred.append(outputs.cpu())\n",
        "          y_true.append(labels.cpu().numpy())\n",
        "\n",
        "    # Printing per-class accuracy of the trained classifier (for test data).\n",
        "    for i in range(2):\n",
        "      print('Accuracy of %5s : %2d %%' % (classes[i], 100 * class_correct[i] / class_total[i]))\n",
        "\n",
        "    # Printing the overall test accuracy.\n",
        "    print('Accuracy of the network on the test images: %d %%' % (100 * correct / total))\n",
        "\n",
        "    time_elapsed = time.time() - since\n",
        "    print('Testing complete in {:.0f}m {:.0f}s'.format(time_elapsed // 60, time_elapsed % 60))\n",
        "\n",
        "    return y_true, y_pred"
      ],
      "execution_count": 0,
      "outputs": []
    },
    {
      "cell_type": "code",
      "metadata": {
        "id": "EVtQUm9P3RaR",
        "colab_type": "code",
        "outputId": "648912dd-a807-4c0d-934f-f4e44bc7db53",
        "colab": {
          "base_uri": "https://localhost:8080/",
          "height": 85
        }
      },
      "source": [
        "y_true, y_pred = test_model(model_ft, criterion)\n",
        "\n",
        "## TODO : use scikit-learn metrics for binary classification (https://scikit-learn.org/stable/modules/model_evaluation.html#classification-metrics)\n",
        "from sklearn.metrics import roc_curve, auc, precision_score, recall_score, f1_score, roc_auc_score\n",
        "\n",
        "# calculate_metric(y_true, y_pred) for all metrics you need over here"
      ],
      "execution_count": 0,
      "outputs": [
        {
          "output_type": "stream",
          "text": [
            "Accuracy of     0 : 85 %\n",
            "Accuracy of     1 : 82 %\n",
            "Accuracy of the network on the test images: 83 %\n",
            "Testing complete in 0m 12s\n"
          ],
          "name": "stdout"
        }
      ]
    },
    {
      "cell_type": "markdown",
      "metadata": {
        "id": "eVLro0DUktVe",
        "colab_type": "text"
      },
      "source": [
        "### General overview of steps involved in this task"
      ]
    },
    {
      "cell_type": "markdown",
      "metadata": {
        "id": "l3hEK9G-kzbK",
        "colab_type": "text"
      },
      "source": [
        "Useful links: <br>\n",
        "\n",
        "https://pytorch.org/tutorials/beginner/finetuning_torchvision_models_tutorial.html <br>\n",
        "https://discuss.pytorch.org/t/getting-the-proper-prediction-and-comparing-it-to-the-true-value/16468/3<br>\n",
        "https://pytorch.org/tutorials/beginner/blitz/cifar10_tutorial.html<BR>\n",
        "https://www.learnopencv.com/pytorch-for-beginners-image-classification-using-pre-trained-models/<br>\n",
        "http://bytepawn.com/solving-mnist-with-pytorch-and-skl.html<br>\n",
        "https://gist.github.com/SuperShinyEyes/dcc68a08ff8b615442e3bc6a9b55a354<br>\n",
        "\n",
        "```python\n",
        "## HYPER-PARAMETERS AND PARAMETERS\n",
        "feature_extract = True \n",
        "num_classes = 2\n",
        "use_pretrained = True\n",
        "N_EPOCHS = 1\n",
        "LEARNING_RATE = 0.001\n",
        "MOMENTUM = 0.9\n",
        "STEP_SIZE = 7\n",
        "GAMMA = 0.1\n",
        "BATCH_SIZE = 32\n",
        "NUM_WORKER = 4\n",
        "device = torch.device(\"cuda:0\" if torch.cuda.is_available() else \"cpu\")\n",
        "\n",
        "## DATALOADERS\n",
        "dataloaders = {'train': train_dataset_loader, 'valid': valid_dataset_loader, 'test': test_dataset_loader}\n",
        "\n",
        "## INITIALIZE MODEL\t\t# executed on CPU\n",
        "def set_parameter_requires_grad(model, feature_extracting):\n",
        "    if feature_extracting:\n",
        "        for param in model.parameters():\n",
        "            param.requires_grad = False\n",
        "\n",
        "def initialize_model(num_classes, feature_extract, use_pretrained=True):\n",
        "    model_ft = models.resnet18(pretrained=use_pretrained)\n",
        "    set_parameter_requires_grad(model_ft, feature_extract)\n",
        "    num_ftrs = model_ft.fc.in_features\n",
        "    model_ft.fc = nn.Linear(num_ftrs, num_classes)\n",
        "    input_size = 224\n",
        "    return model_ft, input_size\n",
        "\n",
        "model_ft, input_size = initialize_model(num_classes, feature_extract, use_pretrained)\n",
        "model_ft = model_ft.to(device) # sends model to GPU\n",
        "\n",
        "## INITIALIZE OPTIMIZER  # don't need to send this to GPU\n",
        "params_to_update = model_ft.parameters()\n",
        "print(\"Params to learn:\")\n",
        "if feature_extract:\n",
        "    params_to_update = []\n",
        "    for name,param in model_ft.named_parameters():\n",
        "        if param.requires_grad == True:\n",
        "            params_to_update.append(param)\n",
        "            print(\"\\t\",name)\n",
        "else:\n",
        "    for name,param in model_ft.named_parameters():\n",
        "        if param.requires_grad == True:\n",
        "            print(\"\\t\",name)\n",
        "\n",
        "optimizer_ft = optim.SGD(params_to_update, lr=0.001, momentum=0.9) \n",
        "exp_lr_scheduler = lr_scheduler.StepLR(optimizer_ft, step_size = STEP_SIZE, gamma=GAMMA)\n",
        "\n",
        "## INITIALIZE THE LOSS FUNCTION  # don't need to send this to GPU\n",
        "criterion = nn.CrossEntropyLoss()\n",
        "\n",
        "## TRAIN THE MODEL AND VALIDATE\n",
        "def train_model(...)\t# sends data to GPU\n",
        "\t...\n",
        "\n",
        "model_ft = train_model(model_ft, criterion, optimizer_ft, exp_lr_scheduler,num_epochs=N_EPOCHS)\n",
        "\n",
        "## TEST THE TRAINED MODEL\n",
        "def test_model(...)\n",
        "\t...\n",
        "\n",
        "## SAVE THE MODEL WEIGHTS\n",
        "def save_model(...)\n",
        "\t...\n",
        "\n",
        "## LOAD THE MODEL AND USE IT FOR PREDICTING IN REAL-TIME\n",
        "def load_model(...)\n",
        "\t...\n",
        "```"
      ]
    }
  ]
}